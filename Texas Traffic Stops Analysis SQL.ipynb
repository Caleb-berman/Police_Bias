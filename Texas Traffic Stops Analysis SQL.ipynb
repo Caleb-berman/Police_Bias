{
 "cells": [
  {
   "cell_type": "markdown",
   "metadata": {},
   "source": [
    "# Code Utilized"
   ]
  },
  {
   "cell_type": "code",
   "execution_count": null,
   "metadata": {},
   "outputs": [],
   "source": [
    "import pandas as pd\n",
    "import numpy as np\n",
    "import matplotlib.pyplot as plt\n",
    "import sqlite3\n",
    "import statsmodels.api as sm"
   ]
  },
  {
   "cell_type": "code",
   "execution_count": null,
   "metadata": {},
   "outputs": [],
   "source": [
    "conn = sqlite3.connect('TexasStops.db')\n",
    "curs = conn.cursor()\n",
    "\n",
    "tables = curs.execute(\"SELECT name FROM sqlite_master WHERE type = 'table'\").fetchall()\n",
    "\n",
    "print('Tables in Database:')\n",
    "for table in tables:\n",
    "    print(table[0])\n",
    "    \n",
    "#Lubbock has no race data"
   ]
  },
  {
   "cell_type": "code",
   "execution_count": null,
   "metadata": {},
   "outputs": [],
   "source": [
    "query = \"\"\"SELECT \n",
    "            subject_race, \n",
    "            CAST(SUBSTR(date, 1, 4) as INT) AS year,\n",
    "            COUNT(subject_race),\n",
    "            SUM(CASE WHEN search_conducted = 'TRUE' THEN 1 ELSE 0 END) as num_searched,\n",
    "            SUM(CASE WHEN warning_issued = 'TRUE' THEN 1 ELSE 0 END) as num_warned,\n",
    "            SUM(CASE WHEN citation_issued = 'TRUE' THEN 1 ELSE 0 END) as num_cited\n",
    "            FROM Statewide \n",
    "            WHERE year = 2010 AND type = 'vehicular'\n",
    "            GROUP BY subject_race, year\n",
    "\n",
    "        \"\"\"\n",
    "query_res = curs.execute(query).fetchall()\n",
    "\n",
    "df = pd.DataFrame(query_res, columns = ['Race', 'Year', 'num_stopped','num_searched','num_warned',\n",
    "                                       'num_cited'])"
   ]
  },
  {
   "cell_type": "code",
   "execution_count": null,
   "metadata": {},
   "outputs": [],
   "source": [
    "#this array is percentage of each race according to 2010 census\n",
    "array = np.array([3.9, 11.8, 37.6, 11.8, 10.5, 45.3]) \n",
    "total_pop  = 25145561 # total texas population as of 2010 census\n",
    "total_nums = total_pop * array\n",
    "\n",
    "df['population'] = total_nums\n",
    "df['Stop rate'] = df['num_stopped'] / df['population']\n",
    "df['Search rate'] = df['num_searched'] / df['population']\n",
    "df['Warning rate'] = df['num_warned'] / df['population']\n",
    "df['Citation rate'] = df['num_cited'] / df['population']\n",
    "\n",
    "df"
   ]
  },
  {
   "cell_type": "code",
   "execution_count": null,
   "metadata": {},
   "outputs": [],
   "source": [
    "query = \"\"\"SELECT \n",
    "            CASE WHEN subject_race = 'white' then 'White' else 'Minority' end as is_white, \n",
    "            SUM(CASE WHEN search_conducted = 'TRUE' THEN 1 ELSE 0 END) as num_searched, \n",
    "            SUM(CASE WHEN contraband_found = 'TRUE' THEN 1 ELSE 0 END) as num_success,\n",
    "            (SUM(CASE WHEN contraband_found = 'TRUE' THEN 1 ELSE 0 END)*1.0 / SUM(CASE WHEN search_conducted = 'TRUE' THEN 1 ELSE 0 END)) as hit_rate\n",
    "            FROM Statewide \n",
    "        GROUP BY is_white\n",
    "        \"\"\"\n",
    "query_res = curs.execute(query).fetchall()\n",
    "\n",
    "df = pd.DataFrame(query_res, columns = ['Race', 'Number Searched', 'Number Contraband Found', 'Hit Rate'])\n",
    "df"
   ]
  },
  {
   "cell_type": "code",
   "execution_count": null,
   "metadata": {},
   "outputs": [],
   "source": [
    "query = \"\"\"SELECT \n",
    "            CAST(SUBSTR(date, 1, 4) as INT) AS year,\n",
    "            CASE WHEN subject_race = 'white' then 'White' else 'Minority' end as is_white, \n",
    "            SUM(CASE WHEN search_conducted = 'TRUE' THEN 1 ELSE 0 END) as num_searched, \n",
    "            SUM(CASE WHEN contraband_found = 'TRUE' THEN 1 ELSE 0 END) as num_success,\n",
    "            (SUM(CASE WHEN contraband_found = 'TRUE' THEN 1 ELSE 0 END)*1.0 / SUM(CASE WHEN search_conducted = 'TRUE' THEN 1 ELSE 0 END)) as hit_rate\n",
    "        FROM Statewide \n",
    "        GROUP BY year, is_white\n",
    "        \"\"\"\n",
    "query_res = curs.execute(query).fetchall()\n",
    "\n",
    "df = pd.DataFrame(query_res, columns = ['Year','Race', 'Number Searched', 'Number Contraband Found', 'Hit Rate'])"
   ]
  },
  {
   "cell_type": "code",
   "execution_count": null,
   "metadata": {},
   "outputs": [],
   "source": [
    "plt.clf()\n",
    "\n",
    "for race in df['Race'].unique():\n",
    "    race_df = df.loc[df['Race'] == race]\n",
    "    plt.scatter(race_df['Year'],race_df['Hit Rate'], label = race)\n",
    "    \n",
    "plt.legend()\n",
    "plt.title('Hit Rate changes in Texas by Year')\n",
    "plt.xlabel('Year')\n",
    "plt.ylabel('Hit Rate')\n",
    "plt.show()"
   ]
  },
  {
   "cell_type": "code",
   "execution_count": null,
   "metadata": {},
   "outputs": [],
   "source": [
    "query = \"\"\"SELECT \n",
    "            county_name,\n",
    "            COUNT(*) as num_stops,\n",
    "            SUM(CASE WHEN (contraband_found = 'TRUE' AND subject_race = 'white') \n",
    "                    THEN 1 ELSE 0 END) * 1.0 / SUM(CASE WHEN (search_conducted = 'TRUE' \n",
    "                        AND subject_race = 'white') THEN 1 ELSE 0 END) as hit_rate_white,\n",
    "    \n",
    "            SUM(CASE WHEN (contraband_found = 'TRUE' AND subject_race != 'white') \n",
    "                THEN 1 ELSE 0 END) * 1.0 / SUM(CASE WHEN (search_conducted = 'TRUE' \n",
    "                    AND subject_race != 'white') THEN 1 ELSE 0 END) as hit_rate_minority\n",
    "\n",
    "            FROM Statewide \n",
    "            GROUP BY county_name\n",
    "            HAVING hit_rate_white IS NOT NULL and hit_rate_minority IS NOT NULL \n",
    "            and hit_rate_white > 0 and hit_rate_minority > 0 \n",
    "        and hit_rate_white < 1 and hit_rate_minority < 1\n",
    "        \"\"\"\n",
    "query_res = curs.execute(query).fetchall()\n",
    "\n",
    "df = pd.DataFrame(query_res, columns = ['County','Number of Stops','White hit rate', 'Minority hit rate'])\n",
    "df.head()"
   ]
  },
  {
   "cell_type": "code",
   "execution_count": null,
   "metadata": {},
   "outputs": [],
   "source": [
    "plt.clf()\n",
    "plt.scatter(df['White hit rate'], df['Minority hit rate'], s = (df['Number of Stops'] / 3000))\n",
    "x = np.linspace(0,0.7)\n",
    "plt.plot(x,x, color = 'red')\n",
    "plt.xlabel('White hit rate')\n",
    "plt.ylabel('Minority hit rate')\n",
    "plt.title('Minority Hit rates vs White hit rates by Texas County')\n",
    "plt.show"
   ]
  },
  {
   "cell_type": "code",
   "execution_count": null,
   "metadata": {},
   "outputs": [],
   "source": [
    "print(df.shape[0])\n",
    "bias_counties = df.loc[df['White hit rate'] > df['Minority hit rate']]\n",
    "print(bias_counties.shape[0])\n",
    "\n",
    "print(bias_counties.shape[0]/ df.shape[0])"
   ]
  },
  {
   "cell_type": "code",
   "execution_count": null,
   "metadata": {},
   "outputs": [],
   "source": [
    "query = \"\"\"SELECT \n",
    "            officer_id_hash,\n",
    "            COUNT(*) as num_stops,\n",
    "            SUM(CASE WHEN (contraband_found = 'TRUE' AND subject_race = 'white') \n",
    "                    THEN 1 ELSE 0 END) * 1.0 / SUM(CASE WHEN (search_conducted = 'TRUE' \n",
    "                        AND subject_race = 'white') THEN 1 ELSE 0 END) as hit_rate_white,\n",
    "    \n",
    "            SUM(CASE WHEN (contraband_found = 'TRUE' AND subject_race != 'white') \n",
    "                THEN 1 ELSE 0 END) * 1.0 / SUM(CASE WHEN (search_conducted = 'TRUE' \n",
    "                    AND subject_race != 'white') THEN 1 ELSE 0 END) as hit_rate_minority\n",
    "\n",
    "            FROM Statewide \n",
    "            GROUP BY officer_id_hash\n",
    "            HAVING hit_rate_white IS NOT NULL and hit_rate_minority IS NOT NULL \n",
    "            and hit_rate_white > 0 and hit_rate_minority > 0 \n",
    "        and hit_rate_white < 1 and hit_rate_minority < 1\n",
    "        \"\"\"\n",
    "query_res = curs.execute(query).fetchall()\n",
    "\n",
    "df = pd.DataFrame(query_res, columns = ['officer','Number of Stops','White hit rate', 'Minority hit rate'])\n",
    "df.head()"
   ]
  },
  {
   "cell_type": "code",
   "execution_count": null,
   "metadata": {},
   "outputs": [],
   "source": [
    "plt.clf()\n",
    "plt.scatter(df['White hit rate'], df['Minority hit rate'], s = (df['Number of Stops'] / 3000))\n",
    "x = np.linspace(0,0.9)\n",
    "plt.plot(x,x, color = 'red')\n",
    "plt.xlabel('White hit rate')\n",
    "plt.ylabel('Minority hit rate')\n",
    "plt.title('Minority Hit rates vs White hit rates by Texas state trooper')\n",
    "plt.show"
   ]
  },
  {
   "cell_type": "code",
   "execution_count": null,
   "metadata": {},
   "outputs": [],
   "source": [
    "df['hit_rate_difference'] = df['White hit rate'] - df['Minority hit rate']\n",
    "std_dev = round(df['hit_rate_difference'].std(), 3)\n",
    "mean = round(df['hit_rate_difference'].mean(), 3)\n",
    "plt.hist(df['hit_rate_difference'], bins = 40)\n",
    "plt.title('Histogram of Hit rate differences, ' +'Mean = ' + str(mean) +  ' Std Dev = ' + str(std_dev))\n",
    "plt.xlabel('Hit rate difference')\n",
    "plt.ylabel('Police officer frequency')"
   ]
  },
  {
   "cell_type": "code",
   "execution_count": null,
   "metadata": {},
   "outputs": [],
   "source": [
    "sm.qqplot(df['hit_rate_difference'], line = 's') \n",
    "plt.title('qq plot of Hit rate difference distribution')\n",
    "plt.plot()"
   ]
  },
  {
   "cell_type": "code",
   "execution_count": null,
   "metadata": {},
   "outputs": [],
   "source": [
    "query = \"\"\"SELECT \n",
    "            CASE WHEN contraband_found = 'TRUE' then 1 else 0 end as contraband_found,\n",
    "            CASE WHEN subject_race = 'white' then 1 else 0 end as is_white, \n",
    "            CASE WHEN subject_sex = 'male' then 1 else 0 end as is_male\n",
    "            FROM Statewide \n",
    "            WHERE search_conducted = 'TRUE'\n",
    "        \"\"\"\n",
    "query_res = curs.execute(query).fetchall()\n",
    "\n",
    "df = pd.DataFrame(query_res, columns = ['Contraband_found','is white','is male'])\n",
    "df.head()"
   ]
  },
  {
   "cell_type": "code",
   "execution_count": null,
   "metadata": {},
   "outputs": [],
   "source": [
    "#fit logistic regression model \n",
    "y = df['Contraband_found']\n",
    "X = df[['is white','is male']]\n",
    "\n",
    "\n",
    "model = sm.Logit(y,sm.add_constant(X)).fit()\n",
    "model.summary()"
   ]
  }
 ],
 "metadata": {
  "kernelspec": {
   "display_name": "Python 3",
   "language": "python",
   "name": "python3"
  },
  "language_info": {
   "codemirror_mode": {
    "name": "ipython",
    "version": 3
   },
   "file_extension": ".py",
   "mimetype": "text/x-python",
   "name": "python",
   "nbconvert_exporter": "python",
   "pygments_lexer": "ipython3",
   "version": "3.7.6"
  }
 },
 "nbformat": 4,
 "nbformat_minor": 4
}
